{
 "cells": [
  {
   "cell_type": "code",
   "execution_count": 1,
   "id": "a85392aa",
   "metadata": {},
   "outputs": [
    {
     "data": {
      "text/plain": [
       "['title_basics.csv.gz', 'title_akas.csv.gz', 'title_ratings.csv.gz']"
      ]
     },
     "execution_count": 1,
     "metadata": {},
     "output_type": "execute_result"
    }
   ],
   "source": [
    "# make data folder if it doesn't already exist\n",
    "import os\n",
    "FOLDER = \"Data/\"\n",
    "os.makedirs(FOLDER, exist_ok=True)\n",
    "os.listdir(FOLDER)"
   ]
  },
  {
   "cell_type": "code",
   "execution_count": 7,
   "id": "9069935c",
   "metadata": {},
   "outputs": [],
   "source": [
    "# specifying which years to get\n",
    "years_wanted = [2000,2001]"
   ]
  },
  {
   "cell_type": "markdown",
   "id": "24465a98",
   "metadata": {},
   "source": [
    "# Outer Loop"
   ]
  },
  {
   "cell_type": "code",
   "execution_count": 3,
   "id": "11b73ff8",
   "metadata": {},
   "outputs": [],
   "source": [
    "# imports\n",
    "from tqdm.notebook import tqdm_notebook\n",
    "import time, math, json\n",
    "import numpy as np\n",
    "import pandas as pd"
   ]
  },
  {
   "cell_type": "code",
   "execution_count": 6,
   "id": "38485dfd",
   "metadata": {},
   "outputs": [
    {
     "ename": "SyntaxError",
     "evalue": "unexpected EOF while parsing (2474687202.py, line 4)",
     "output_type": "error",
     "traceback": [
      "\u001b[0;36m  File \u001b[0;32m\"/var/folders/k9/8pn_tzdn4pl3fffspzcc_fsc0000gn/T/ipykernel_33260/2474687202.py\"\u001b[0;36m, line \u001b[0;32m4\u001b[0m\n\u001b[0;31m    # position = specify line offset\u001b[0m\n\u001b[0m                                    ^\u001b[0m\n\u001b[0;31mSyntaxError\u001b[0m\u001b[0;31m:\u001b[0m unexpected EOF while parsing\n"
     ]
    }
   ],
   "source": [
    "# set up progress bar\n",
    "for YEAR in tqdm_notebook(years_wanted, desc='YEARS', position=0):\n",
    "# desc = prefix before progress bar\n",
    "# position = specify line offset"
   ]
  },
  {
   "cell_type": "code",
   "execution_count": 5,
   "id": "863c7c69",
   "metadata": {},
   "outputs": [
    {
     "ename": "NameError",
     "evalue": "name 'YEAR' is not defined",
     "output_type": "error",
     "traceback": [
      "\u001b[0;31m---------------------------------------------------------------------------\u001b[0m",
      "\u001b[0;31mNameError\u001b[0m                                 Traceback (most recent call last)",
      "\u001b[0;32m/var/folders/k9/8pn_tzdn4pl3fffspzcc_fsc0000gn/T/ipykernel_33260/4177774926.py\u001b[0m in \u001b[0;36m<module>\u001b[0;34m\u001b[0m\n\u001b[1;32m      1\u001b[0m \u001b[0;31m# select json filename to save results\u001b[0m\u001b[0;34m\u001b[0m\u001b[0;34m\u001b[0m\u001b[0;34m\u001b[0m\u001b[0m\n\u001b[1;32m      2\u001b[0m \u001b[0;31m# define json file\u001b[0m\u001b[0;34m\u001b[0m\u001b[0;34m\u001b[0m\u001b[0;34m\u001b[0m\u001b[0m\n\u001b[0;32m----> 3\u001b[0;31m \u001b[0mJSON_FILE\u001b[0m \u001b[0;34m=\u001b[0m \u001b[0;34mf'{FOLDER}tmdb_api_results_{YEAR}.json'\u001b[0m\u001b[0;34m\u001b[0m\u001b[0;34m\u001b[0m\u001b[0m\n\u001b[0m\u001b[1;32m      4\u001b[0m \u001b[0;34m\u001b[0m\u001b[0m\n\u001b[1;32m      5\u001b[0m \u001b[0;31m# check if file exists\u001b[0m\u001b[0;34m\u001b[0m\u001b[0;34m\u001b[0m\u001b[0;34m\u001b[0m\u001b[0m\n",
      "\u001b[0;31mNameError\u001b[0m: name 'YEAR' is not defined"
     ]
    }
   ],
   "source": [
    "# select json filename to save results\n",
    "# define json file\n",
    "JSON_FILE = f'{FOLDER}tmdb_api_results_{YEAR}.json'\n",
    "\n",
    "# check if file exists\n",
    "fileExists = os.path.isfile(JSON_FILE)\n",
    "# if file doesn't exist, make it\n",
    "if fileExists == False:\n",
    "    # save empty dict with imdb_id key to new json\n",
    "    with open(JSON_FILE, 'w') as f:\n",
    "        json.dump([{\"imdb_id\":0}], f)"
   ]
  },
  {
   "cell_type": "code",
   "execution_count": null,
   "id": "993fd2f3",
   "metadata": {},
   "outputs": [],
   "source": [
    "# load in df from part 1 as basics\n",
    "basics = pd.read_csv('INSERT PATH')"
   ]
  },
  {
   "cell_type": "code",
   "execution_count": null,
   "id": "b3520e5e",
   "metadata": {},
   "outputs": [],
   "source": [
    "# save new year as current df\n",
    "df = basics.loc[basics['startYear']==YEAR].copy()\n",
    "# save movie ids to list\n",
    "movie_ids = df['tconst'].copy() # to .list()"
   ]
  },
  {
   "cell_type": "code",
   "execution_count": null,
   "id": "79d7767c",
   "metadata": {},
   "outputs": [],
   "source": [
    "# load existing data from json to prevDf\n",
    "prev_df = pd.read_json(JSON_FILE)\n",
    "\n",
    "# filter any ids that are already in the json\n",
    "movie_ids_to_get = movie_ids[~movie_ids.isin(prevDf['imdb_id'])]"
   ]
  },
  {
   "cell_type": "markdown",
   "id": "e8b5d9ea",
   "metadata": {},
   "source": [
    "# Inner Loop"
   ]
  },
  {
   "cell_type": "code",
   "execution_count": null,
   "id": "bb343394",
   "metadata": {},
   "outputs": [],
   "source": [
    "# function to add new results to existing json\n",
    "def write_json(new_data, filename):\n",
    "    \"\"\"Adapted from: https://www.geeksforgeeks.org/append-to-json-file-using-python/\"\"\" \n",
    "    with open(filename, 'r') as file:\n",
    "        # load existing data into dict\n",
    "        file_data = json.load(file)\n",
    "        # if both are lists, extend\n",
    "        if (type(new_data) == list) & (type(file_data) == list):\n",
    "            file_data.extend(new_data)\n",
    "        else:\n",
    "            file_data.append(new_data)\n",
    "        # set file's current position at offset\n",
    "        file.seek(0)\n",
    "        # convert back to json\n",
    "        json.dump(file_data, file)"
   ]
  },
  {
   "cell_type": "markdown",
   "id": "ebc20055",
   "metadata": {},
   "source": [
    "INSERT GET_CERTIFICATION FUNCTION!!!"
   ]
  },
  {
   "cell_type": "code",
   "execution_count": null,
   "id": "97985a0f",
   "metadata": {},
   "outputs": [],
   "source": [
    "# iterate through movie ids and make api calls\n",
    "# get index and movie id from list\n",
    "# inner loop\n",
    "for movie_id in tqdm_notebook(movie_ids_to_get,\n",
    "                            desc=f'Movies from {YEAR}',\n",
    "                            position=1,\n",
    "                            leave=True)\n",
    "# leave=True keeps traces of progress bar upon termination of iteration\n",
    "# try to retrieve data for movie id\n",
    "try:\n",
    "    temp = get_certification(movie_id)\n",
    "    # append/extend results to existing file using the write_json function\n",
    "    write_json(temp, JSON_FILE)\n",
    "    # add pause between iterations to not overwhelm server\n",
    "    time.sleep(.02)\n",
    "# if it fails, make a dict with the id and None for certification     \n",
    "except Exception as e:\n",
    "    continue\n",
    "    "
   ]
  },
  {
   "cell_type": "code",
   "execution_count": null,
   "id": "161aebbd",
   "metadata": {},
   "outputs": [],
   "source": [
    "# save results as a .csv.gz file AFTER INNER loop BUT WITHIN OUTER loop \n",
    "final_year_df = pd.read_json(JSON_FILE)\n",
    "final_year_df.to_csv(f\"{FOLDER}final_tmdb_data_{YEAR}.csv.gz\",\n",
    "                    compression=\"gzip\",\n",
    "                    index=False)"
   ]
  },
  {
   "cell_type": "code",
   "execution_count": null,
   "id": "72b06c6c",
   "metadata": {},
   "outputs": [],
   "source": [
    "# troubleshooting in case of error\n",
    "prev_df = read_and_fix_json(JSON_FILE)"
   ]
  }
 ],
 "metadata": {
  "kernelspec": {
   "display_name": "Python (dojo-env)",
   "language": "python",
   "name": "dojo-env"
  },
  "language_info": {
   "codemirror_mode": {
    "name": "ipython",
    "version": 3
   },
   "file_extension": ".py",
   "mimetype": "text/x-python",
   "name": "python",
   "nbconvert_exporter": "python",
   "pygments_lexer": "ipython3",
   "version": "3.7.12"
  },
  "toc": {
   "base_numbering": 1,
   "nav_menu": {},
   "number_sections": true,
   "sideBar": true,
   "skip_h1_title": false,
   "title_cell": "Table of Contents",
   "title_sidebar": "Contents",
   "toc_cell": false,
   "toc_position": {},
   "toc_section_display": true,
   "toc_window_display": false
  }
 },
 "nbformat": 4,
 "nbformat_minor": 5
}
