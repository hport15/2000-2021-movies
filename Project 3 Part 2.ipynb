{
 "cells": [
  {
   "cell_type": "code",
   "execution_count": 1,
   "id": "78e7fba8",
   "metadata": {},
   "outputs": [],
   "source": [
    "# imports\n",
    "import os, time, math, json\n",
    "import numpy as np\n",
    "import pandas as pd\n",
    "import tmdbsimple as tmdb\n",
    "from tqdm.notebook import tqdm_notebook"
   ]
  },
  {
   "cell_type": "markdown",
   "id": "959d9b35",
   "metadata": {},
   "source": [
    "Your stakeholder would like you to extract and save the results for movies that meet all of the criteria established in part 1 of the project (You should already have a filtered dataframe saved from part one as a csv.gz file)\n",
    "\n",
    "As a proof-of-concept, they requested you perform a test extraction of movies that started in 2000 or 2001\n",
    "\n",
    "Each year should be saved as a separate .csv.gz file"
   ]
  },
  {
   "cell_type": "code",
   "execution_count": 2,
   "id": "1228ecac",
   "metadata": {},
   "outputs": [
    {
     "data": {
      "text/plain": [
       "dict_keys(['api-key'])"
      ]
     },
     "execution_count": 2,
     "metadata": {},
     "output_type": "execute_result"
    }
   ],
   "source": [
    "# api credentials\n",
    "with open('/Users/hkim1297/.secret/tmdb_api.json', 'r') as f:\n",
    "    login = json.load(f)\n",
    "login.keys()"
   ]
  },
  {
   "cell_type": "code",
   "execution_count": 3,
   "id": "7f8d0442",
   "metadata": {},
   "outputs": [],
   "source": [
    "# instantiate api-key variable\n",
    "tmdb.API_KEY = login['api-key']"
   ]
  },
  {
   "cell_type": "code",
   "execution_count": 7,
   "id": "ec737cb1",
   "metadata": {},
   "outputs": [],
   "source": [
    "# folder to save results\n",
    "FOLDER = \"Data/\"\n",
    "\n",
    "# years desired\n",
    "years_wanted = list(range(2010,2021))"
   ]
  },
  {
   "cell_type": "code",
   "execution_count": 8,
   "id": "071ea02e",
   "metadata": {},
   "outputs": [],
   "source": [
    "# function for getting US certification\n",
    "def get_certification(imdb_id):\n",
    "    # make movie object\n",
    "    movie = tmdb.Movies(imdb_id)\n",
    "    # save .info dict\n",
    "    info = movie.info()\n",
    "    # save .releases dict\n",
    "    releases = movie.releases()\n",
    "    # loop to get us certification\n",
    "    for c in releases['countries']:\n",
    "        if c['iso_3166_1'] == 'US':\n",
    "            # add a certification key and the certification as the value to info\n",
    "            info['certification'] = c['certification']\n",
    "    return info"
   ]
  },
  {
   "cell_type": "code",
   "execution_count": 9,
   "id": "cfde1ec8",
   "metadata": {},
   "outputs": [],
   "source": [
    "# function to add new results to existing json\n",
    "def write_json(new_data, filename):\n",
    "    \"\"\"Adapted from: https://www.geeksforgeeks.org/append-to-json-file-using-python/\"\"\" \n",
    "    with open(filename, 'r+') as file:\n",
    "        # r+ = read and write\n",
    "        # load existing data into dict\n",
    "        file_data = json.load(file)\n",
    "        # if both are lists, extend\n",
    "        if (type(new_data) == list) & (type(file_data) == list):\n",
    "            file_data.extend(new_data)\n",
    "        else:\n",
    "            file_data.append(new_data)\n",
    "        # set file's current position at offset\n",
    "        file.seek(0)\n",
    "        # convert back to json\n",
    "        json.dump(file_data, file)"
   ]
  },
  {
   "cell_type": "code",
   "execution_count": null,
   "id": "de561871",
   "metadata": {},
   "outputs": [
    {
     "data": {
      "application/vnd.jupyter.widget-view+json": {
       "model_id": "b64f2d389dad40318196538857dce148",
       "version_major": 2,
       "version_minor": 0
      },
      "text/plain": [
       "YEARS:   0%|          | 0/11 [00:00<?, ?it/s]"
      ]
     },
     "metadata": {},
     "output_type": "display_data"
    },
    {
     "data": {
      "application/vnd.jupyter.widget-view+json": {
       "model_id": "5855b558833743ff87ae0e29eb03b765",
       "version_major": 2,
       "version_minor": 0
      },
      "text/plain": [
       "Movies from 2010:   0%|          | 0/3756 [00:00<?, ?it/s]"
      ]
     },
     "metadata": {},
     "output_type": "display_data"
    },
    {
     "data": {
      "application/vnd.jupyter.widget-view+json": {
       "model_id": "4259bc43e0434c55899fb835d975b2cc",
       "version_major": 2,
       "version_minor": 0
      },
      "text/plain": [
       "Movies from 2011:   0%|          | 0/4142 [00:00<?, ?it/s]"
      ]
     },
     "metadata": {},
     "output_type": "display_data"
    },
    {
     "data": {
      "application/vnd.jupyter.widget-view+json": {
       "model_id": "5b9011d2ca154bc8ae910c7b5d7de332",
       "version_major": 2,
       "version_minor": 0
      },
      "text/plain": [
       "Movies from 2012:   0%|          | 0/4432 [00:00<?, ?it/s]"
      ]
     },
     "metadata": {},
     "output_type": "display_data"
    },
    {
     "data": {
      "application/vnd.jupyter.widget-view+json": {
       "model_id": "172c8c043bb14fa5a7251afbd178dcb3",
       "version_major": 2,
       "version_minor": 0
      },
      "text/plain": [
       "Movies from 2013:   0%|          | 0/4635 [00:00<?, ?it/s]"
      ]
     },
     "metadata": {},
     "output_type": "display_data"
    },
    {
     "data": {
      "application/vnd.jupyter.widget-view+json": {
       "model_id": "f1adab037d86445faf5f08b28b50fe66",
       "version_major": 2,
       "version_minor": 0
      },
      "text/plain": [
       "Movies from 2014:   0%|          | 0/4780 [00:00<?, ?it/s]"
      ]
     },
     "metadata": {},
     "output_type": "display_data"
    },
    {
     "data": {
      "application/vnd.jupyter.widget-view+json": {
       "model_id": "55b00a76703c48c086dc20429105796f",
       "version_major": 2,
       "version_minor": 0
      },
      "text/plain": [
       "Movies from 2015:   0%|          | 0/4939 [00:00<?, ?it/s]"
      ]
     },
     "metadata": {},
     "output_type": "display_data"
    }
   ],
   "source": [
    "# outer loop\n",
    "# progress bar\n",
    "for YEAR in tqdm_notebook(years_wanted, desc='YEARS', position=0):\n",
    "    # define json file for saving results\n",
    "    JSON_FILE = f'{FOLDER}tmdb_api_results_{YEAR}.json'\n",
    "    \n",
    "    # check if file exists\n",
    "    file_exists = os.path.isfile(JSON_FILE)\n",
    "    # if file doesn't exist, make it\n",
    "    if file_exists == False:\n",
    "        # save empty dict with imdb_id key to new json\n",
    "        with open(JSON_FILE, 'w') as f:\n",
    "            json.dump([{\"imdb_id\":0}], f)\n",
    "    \n",
    "    # load basics df\n",
    "    basics = pd.read_csv('Data/title_basics.csv.gz')\n",
    "    # save new year as df\n",
    "    df = basics.loc[basics['startYear']==YEAR]\n",
    "    # save movie ids to list\n",
    "    movie_ids = df['tconst']\n",
    "    \n",
    "    # load existing data from json to prev_df\n",
    "    prev_df = pd.read_json(JSON_FILE)\n",
    "    # filter any ids already in the file\n",
    "    movie_ids_to_get = movie_ids[~movie_ids.isin(prev_df['imdb_id'])].tolist()\n",
    "    \n",
    "    # inner loop\n",
    "    # iterate through movie ids and get api calls\n",
    "    for movie_id in tqdm_notebook(movie_ids_to_get,\n",
    "                                 desc=f'Movies from {YEAR}',\n",
    "                                 position=1,\n",
    "                                 leave=True):\n",
    "        # try to retrieve data for movie id\n",
    "        try:\n",
    "            temp = get_certification(movie_id)\n",
    "            # append/extend results to existing file\n",
    "            write_json(temp, JSON_FILE)\n",
    "            # add pause in between to not overload server\n",
    "            time.sleep(.02)\n",
    "        # if it fails, make a dict with the id and None for certification\n",
    "        except Exception as e:\n",
    "            continue\n",
    "    # save results as a .csv.gz file\n",
    "    final_year_df = pd.read_json(JSON_FILE)\n",
    "    final_year_df.to_csv(f\"{FOLDER}final_tmdb_data_{YEAR}.csv.gz\",\n",
    "                        compression='gzip',\n",
    "                        index=False)"
   ]
  },
  {
   "cell_type": "code",
   "execution_count": null,
   "id": "be527112",
   "metadata": {},
   "outputs": [],
   "source": []
  }
 ],
 "metadata": {
  "kernelspec": {
   "display_name": "Python (dojo-env)",
   "language": "python",
   "name": "dojo-env"
  },
  "language_info": {
   "codemirror_mode": {
    "name": "ipython",
    "version": 3
   },
   "file_extension": ".py",
   "mimetype": "text/x-python",
   "name": "python",
   "nbconvert_exporter": "python",
   "pygments_lexer": "ipython3",
   "version": "3.7.12"
  },
  "toc": {
   "base_numbering": 1,
   "nav_menu": {},
   "number_sections": true,
   "sideBar": true,
   "skip_h1_title": false,
   "title_cell": "Table of Contents",
   "title_sidebar": "Contents",
   "toc_cell": false,
   "toc_position": {},
   "toc_section_display": true,
   "toc_window_display": false
  },
  "widgets": {
   "application/vnd.jupyter.widget-state+json": {
    "state": {
     "055c16a4aa0f420b97dd308a35656da2": {
      "model_module": "@jupyter-widgets/controls",
      "model_module_version": "1.5.0",
      "model_name": "HTMLModel",
      "state": {
       "layout": "IPY_MODEL_930bd955df1d4a03bab5105b4dcdb4bd",
       "style": "IPY_MODEL_a6e19ffee2ee4ddbb18584a538b84de9",
       "value": " 0/2 [00:00&lt;?, ?it/s]"
      }
     },
     "05b59fce37ef441aa49877e0aa32fd3b": {
      "model_module": "@jupyter-widgets/controls",
      "model_module_version": "1.5.0",
      "model_name": "DescriptionStyleModel",
      "state": {
       "description_width": ""
      }
     },
     "0775a3095d9748e3b9c546f680292797": {
      "model_module": "@jupyter-widgets/base",
      "model_module_version": "1.2.0",
      "model_name": "LayoutModel",
      "state": {}
     },
     "0c20d8e978fe49af81edda3f091f6555": {
      "model_module": "@jupyter-widgets/controls",
      "model_module_version": "1.5.0",
      "model_name": "ProgressStyleModel",
      "state": {
       "description_width": ""
      }
     },
     "0c2964f81fd346d783e607200884f14c": {
      "model_module": "@jupyter-widgets/controls",
      "model_module_version": "1.5.0",
      "model_name": "HTMLModel",
      "state": {
       "layout": "IPY_MODEL_bb404d06aa864d969b51e9ee92114cf3",
       "style": "IPY_MODEL_05b59fce37ef441aa49877e0aa32fd3b",
       "value": " 1077/1524 [06:03&lt;01:30,  4.95it/s]"
      }
     },
     "0c604a46443649b7a0631ab7065f26af": {
      "model_module": "@jupyter-widgets/base",
      "model_module_version": "1.2.0",
      "model_name": "LayoutModel",
      "state": {}
     },
     "0d2a4b7e9650401bad0cc6ee73102d47": {
      "model_module": "@jupyter-widgets/controls",
      "model_module_version": "1.5.0",
      "model_name": "FloatProgressModel",
      "state": {
       "bar_style": "success",
       "layout": "IPY_MODEL_cd9bd0eb4d2c4f5f8b5eb36e44b8c555",
       "max": 1524,
       "style": "IPY_MODEL_bba00e2dff7646d6911fd1c76263b50b",
       "value": 1524
      }
     },
     "0d6d135f1d4549e3b412f2fe1634ed95": {
      "model_module": "@jupyter-widgets/controls",
      "model_module_version": "1.5.0",
      "model_name": "HBoxModel",
      "state": {
       "children": [
        "IPY_MODEL_a7500d7cf1374fa099d6e241c12172e9",
        "IPY_MODEL_685e9d23eaf046198bb277f6cd0810ed",
        "IPY_MODEL_c7bd9482ab2b4f45a84467e8005fd068"
       ],
       "layout": "IPY_MODEL_374858c5ff6c4a8792eb04a44f2edd4d"
      }
     },
     "0ea5a944350c4db6a7652300e78a8fda": {
      "model_module": "@jupyter-widgets/base",
      "model_module_version": "1.2.0",
      "model_name": "LayoutModel",
      "state": {}
     },
     "0f9adf0dc259450cbc20e8a0167622ad": {
      "model_module": "@jupyter-widgets/controls",
      "model_module_version": "1.5.0",
      "model_name": "HBoxModel",
      "state": {
       "children": [
        "IPY_MODEL_f2475160b5394ed994ab1479528196c4",
        "IPY_MODEL_95f4f50f0b934af9a514f2182e09c8b1",
        "IPY_MODEL_055c16a4aa0f420b97dd308a35656da2"
       ],
       "layout": "IPY_MODEL_1fbb0bb83da64c1b9ffa1613af8cd53d"
      }
     },
     "11998c63c6704d58b3183d2ab9c75a41": {
      "model_module": "@jupyter-widgets/controls",
      "model_module_version": "1.5.0",
      "model_name": "DescriptionStyleModel",
      "state": {
       "description_width": ""
      }
     },
     "15942caa506d45549a0a9a86c2ec5f13": {
      "model_module": "@jupyter-widgets/controls",
      "model_module_version": "1.5.0",
      "model_name": "DescriptionStyleModel",
      "state": {
       "description_width": ""
      }
     },
     "17074917333840249573486f2728755f": {
      "model_module": "@jupyter-widgets/controls",
      "model_module_version": "1.5.0",
      "model_name": "ProgressStyleModel",
      "state": {
       "description_width": ""
      }
     },
     "18258b8901714b22b3360e595e066cec": {
      "model_module": "@jupyter-widgets/controls",
      "model_module_version": "1.5.0",
      "model_name": "DescriptionStyleModel",
      "state": {
       "description_width": ""
      }
     },
     "1fbb0bb83da64c1b9ffa1613af8cd53d": {
      "model_module": "@jupyter-widgets/base",
      "model_module_version": "1.2.0",
      "model_name": "LayoutModel",
      "state": {}
     },
     "21a15f90bf8d4651aedf2ec8ea9d9478": {
      "model_module": "@jupyter-widgets/base",
      "model_module_version": "1.2.0",
      "model_name": "LayoutModel",
      "state": {}
     },
     "23136c1938c942d082a556eeacc0a27c": {
      "model_module": "@jupyter-widgets/controls",
      "model_module_version": "1.5.0",
      "model_name": "FloatProgressModel",
      "state": {
       "bar_style": "success",
       "layout": "IPY_MODEL_fd48a84587774ad6b632609caedce653",
       "max": 1406,
       "style": "IPY_MODEL_0c20d8e978fe49af81edda3f091f6555",
       "value": 1406
      }
     },
     "2469b0e68c6b4c34bd5f4d98411956ef": {
      "model_module": "@jupyter-widgets/base",
      "model_module_version": "1.2.0",
      "model_name": "LayoutModel",
      "state": {}
     },
     "24fe562b924d41888ff995b7ab4d3cc9": {
      "model_module": "@jupyter-widgets/controls",
      "model_module_version": "1.5.0",
      "model_name": "DescriptionStyleModel",
      "state": {
       "description_width": ""
      }
     },
     "2766b965206d4a4a9691cb97d9550672": {
      "model_module": "@jupyter-widgets/base",
      "model_module_version": "1.2.0",
      "model_name": "LayoutModel",
      "state": {}
     },
     "2931c625831345c682eb8e8104119b3b": {
      "model_module": "@jupyter-widgets/controls",
      "model_module_version": "1.5.0",
      "model_name": "HTMLModel",
      "state": {
       "layout": "IPY_MODEL_51a7009abde847f086cde316227beac5",
       "style": "IPY_MODEL_24fe562b924d41888ff995b7ab4d3cc9",
       "value": " 1406/1406 [07:35&lt;00:00,  7.45it/s]"
      }
     },
     "29e8516f358644a1b2398a09736cc12a": {
      "model_module": "@jupyter-widgets/controls",
      "model_module_version": "1.5.0",
      "model_name": "DescriptionStyleModel",
      "state": {
       "description_width": ""
      }
     },
     "2a79aa6a2e164004902f057dd9f8e0cb": {
      "model_module": "@jupyter-widgets/controls",
      "model_module_version": "1.5.0",
      "model_name": "HBoxModel",
      "state": {
       "children": [
        "IPY_MODEL_ad54cc7c285e4b42adc09a7072da7e46",
        "IPY_MODEL_a352bcf6ad66487b9890100dd9616209",
        "IPY_MODEL_d1eb1d9f689948d3bca9688ccc8e40a1"
       ],
       "layout": "IPY_MODEL_ac6c076fff9c45c297960b44b482d47f"
      }
     },
     "2aacb4e34ac344e5b568d1d38f523ab4": {
      "model_module": "@jupyter-widgets/base",
      "model_module_version": "1.2.0",
      "model_name": "LayoutModel",
      "state": {}
     },
     "2e519350d550461ea1918b83d1ac6d69": {
      "model_module": "@jupyter-widgets/controls",
      "model_module_version": "1.5.0",
      "model_name": "HBoxModel",
      "state": {
       "children": [
        "IPY_MODEL_5abc74a17fad47afb2310b91a149a74b",
        "IPY_MODEL_8c235cffa42243e381f34333fa6809c6",
        "IPY_MODEL_0c2964f81fd346d783e607200884f14c"
       ],
       "layout": "IPY_MODEL_ffaecf43f279401e9b95a9dd89515130"
      }
     },
     "31f8dd8c03ce4f6ca6c79beb24018fd0": {
      "model_module": "@jupyter-widgets/base",
      "model_module_version": "1.2.0",
      "model_name": "LayoutModel",
      "state": {}
     },
     "3669a01f9f404f078de9eb5c0820b300": {
      "model_module": "@jupyter-widgets/controls",
      "model_module_version": "1.5.0",
      "model_name": "HTMLModel",
      "state": {
       "layout": "IPY_MODEL_7cf98eab85594d0ab4bc79a37f46f48b",
       "style": "IPY_MODEL_855b5a4f72184fecb8d13f1673715976",
       "value": "YEARS:  50%"
      }
     },
     "374858c5ff6c4a8792eb04a44f2edd4d": {
      "model_module": "@jupyter-widgets/base",
      "model_module_version": "1.2.0",
      "model_name": "LayoutModel",
      "state": {}
     },
     "37f6bbe1acfc41d8bd4b31af1579d6ce": {
      "model_module": "@jupyter-widgets/base",
      "model_module_version": "1.2.0",
      "model_name": "LayoutModel",
      "state": {}
     },
     "38071632aa094799b9e14506539b01eb": {
      "model_module": "@jupyter-widgets/controls",
      "model_module_version": "1.5.0",
      "model_name": "FloatProgressModel",
      "state": {
       "bar_style": "success",
       "layout": "IPY_MODEL_2766b965206d4a4a9691cb97d9550672",
       "max": 1406,
       "style": "IPY_MODEL_64e1f1ab0b3a422492b1b40112b8e82d",
       "value": 1406
      }
     },
     "3de206d3fc574b62a7c22cb90779bd78": {
      "model_module": "@jupyter-widgets/controls",
      "model_module_version": "1.5.0",
      "model_name": "FloatProgressModel",
      "state": {
       "bar_style": "danger",
       "layout": "IPY_MODEL_4dae359b06904028bac91fae38e71d15",
       "max": 2,
       "style": "IPY_MODEL_cc6421a1edc24b6e8ad14f9f2bf8388a"
      }
     },
     "3e72ab103c5c4a258a2b1cc651660189": {
      "model_module": "@jupyter-widgets/controls",
      "model_module_version": "1.5.0",
      "model_name": "HTMLModel",
      "state": {
       "layout": "IPY_MODEL_0c604a46443649b7a0631ab7065f26af",
       "style": "IPY_MODEL_998e8df3d60a464ab76018144f8498ed",
       "value": "Movies from 2000: 100%"
      }
     },
     "40f8d8381a9c43d7aa37efddaf6d82d5": {
      "model_module": "@jupyter-widgets/base",
      "model_module_version": "1.2.0",
      "model_name": "LayoutModel",
      "state": {}
     },
     "4453fae213754608918f1e5e980fb5c5": {
      "model_module": "@jupyter-widgets/base",
      "model_module_version": "1.2.0",
      "model_name": "LayoutModel",
      "state": {}
     },
     "453633231ec44fe7925badd18adbb890": {
      "model_module": "@jupyter-widgets/controls",
      "model_module_version": "1.5.0",
      "model_name": "HBoxModel",
      "state": {
       "children": [
        "IPY_MODEL_e3e52d12cd7e40bb8b52e3a7d1970a7d",
        "IPY_MODEL_bb171a4a928c45dfb0ccd09e2cb78523",
        "IPY_MODEL_2931c625831345c682eb8e8104119b3b"
       ],
       "layout": "IPY_MODEL_37f6bbe1acfc41d8bd4b31af1579d6ce"
      }
     },
     "4a53e7ba6a7b4494b6305cce04a75f24": {
      "model_module": "@jupyter-widgets/controls",
      "model_module_version": "1.5.0",
      "model_name": "HTMLModel",
      "state": {
       "layout": "IPY_MODEL_8772fb78cd914b27b35b32a3d0247890",
       "style": "IPY_MODEL_b4c00913595e4473b35e2915415ab892",
       "value": " 1524/1524 [09:06&lt;00:00,  6.10it/s]"
      }
     },
     "4dae359b06904028bac91fae38e71d15": {
      "model_module": "@jupyter-widgets/base",
      "model_module_version": "1.2.0",
      "model_name": "LayoutModel",
      "state": {}
     },
     "4e65e12f7dd747d59b973f4516efa485": {
      "model_module": "@jupyter-widgets/controls",
      "model_module_version": "1.5.0",
      "model_name": "DescriptionStyleModel",
      "state": {
       "description_width": ""
      }
     },
     "4f6dc0a352e54496a8e8474a484b31e9": {
      "model_module": "@jupyter-widgets/controls",
      "model_module_version": "1.5.0",
      "model_name": "HBoxModel",
      "state": {
       "children": [
        "IPY_MODEL_65542883b0f5432e9b5e9e4c15bccbe2",
        "IPY_MODEL_3de206d3fc574b62a7c22cb90779bd78",
        "IPY_MODEL_e31bda6064da41b3a8e03db3deea3183"
       ],
       "layout": "IPY_MODEL_890bded3486246238c4ab305ae353c83"
      }
     },
     "517da760cb9f4365a04fb832dfcc2691": {
      "model_module": "@jupyter-widgets/base",
      "model_module_version": "1.2.0",
      "model_name": "LayoutModel",
      "state": {}
     },
     "51a7009abde847f086cde316227beac5": {
      "model_module": "@jupyter-widgets/base",
      "model_module_version": "1.2.0",
      "model_name": "LayoutModel",
      "state": {}
     },
     "53d693b7471a434fb94dccbfd27876eb": {
      "model_module": "@jupyter-widgets/controls",
      "model_module_version": "1.5.0",
      "model_name": "HBoxModel",
      "state": {
       "children": [
        "IPY_MODEL_e1511a80a426437f8e7a8366ac15b0bb",
        "IPY_MODEL_38071632aa094799b9e14506539b01eb",
        "IPY_MODEL_f71d20aec289434e90f7292fe0f8f527"
       ],
       "layout": "IPY_MODEL_a10627c9ae414e5f869d931568ffc2c1"
      }
     },
     "56231d64953f4cafbcc12fa5d8cebb1e": {
      "model_module": "@jupyter-widgets/base",
      "model_module_version": "1.2.0",
      "model_name": "LayoutModel",
      "state": {}
     },
     "569ceb59f63c461295972024eaeb6bee": {
      "model_module": "@jupyter-widgets/controls",
      "model_module_version": "1.5.0",
      "model_name": "HBoxModel",
      "state": {
       "children": [
        "IPY_MODEL_c4e323d3dc13456c920e276e28f79f26",
        "IPY_MODEL_0d2a4b7e9650401bad0cc6ee73102d47",
        "IPY_MODEL_4a53e7ba6a7b4494b6305cce04a75f24"
       ],
       "layout": "IPY_MODEL_40f8d8381a9c43d7aa37efddaf6d82d5"
      }
     },
     "5abc74a17fad47afb2310b91a149a74b": {
      "model_module": "@jupyter-widgets/controls",
      "model_module_version": "1.5.0",
      "model_name": "HTMLModel",
      "state": {
       "layout": "IPY_MODEL_2469b0e68c6b4c34bd5f4d98411956ef",
       "style": "IPY_MODEL_18258b8901714b22b3360e595e066cec",
       "value": "Movies from 2001:  71%"
      }
     },
     "5fa1690bac2247ce8454f71a440e43bd": {
      "model_module": "@jupyter-widgets/base",
      "model_module_version": "1.2.0",
      "model_name": "LayoutModel",
      "state": {}
     },
     "5fc69baff23644859cb50456a9310107": {
      "model_module": "@jupyter-widgets/base",
      "model_module_version": "1.2.0",
      "model_name": "LayoutModel",
      "state": {}
     },
     "600ba8f9f61144df86fc45e9852f6107": {
      "model_module": "@jupyter-widgets/base",
      "model_module_version": "1.2.0",
      "model_name": "LayoutModel",
      "state": {}
     },
     "647c385819a5491396ec0e6e4b16f765": {
      "model_module": "@jupyter-widgets/controls",
      "model_module_version": "1.5.0",
      "model_name": "ProgressStyleModel",
      "state": {
       "description_width": ""
      }
     },
     "64e1f1ab0b3a422492b1b40112b8e82d": {
      "model_module": "@jupyter-widgets/controls",
      "model_module_version": "1.5.0",
      "model_name": "ProgressStyleModel",
      "state": {
       "description_width": ""
      }
     },
     "653af011064f4155bee1cda685412d34": {
      "model_module": "@jupyter-widgets/controls",
      "model_module_version": "1.5.0",
      "model_name": "HTMLModel",
      "state": {
       "layout": "IPY_MODEL_6a900df67fc747f29b37b8a83970a72c",
       "style": "IPY_MODEL_29e8516f358644a1b2398a09736cc12a",
       "value": "YEARS: 100%"
      }
     },
     "65542883b0f5432e9b5e9e4c15bccbe2": {
      "model_module": "@jupyter-widgets/controls",
      "model_module_version": "1.5.0",
      "model_name": "HTMLModel",
      "state": {
       "layout": "IPY_MODEL_6eb8281bbc51473a88b0e5082c44b9ab",
       "style": "IPY_MODEL_11998c63c6704d58b3183d2ab9c75a41",
       "value": "YEARS:   0%"
      }
     },
     "656dcbecee3a4d6b9f6eb842ff80299e": {
      "model_module": "@jupyter-widgets/base",
      "model_module_version": "1.2.0",
      "model_name": "LayoutModel",
      "state": {}
     },
     "6797067c29df463883be09a85ec43665": {
      "model_module": "@jupyter-widgets/controls",
      "model_module_version": "1.5.0",
      "model_name": "DescriptionStyleModel",
      "state": {
       "description_width": ""
      }
     },
     "685e9d23eaf046198bb277f6cd0810ed": {
      "model_module": "@jupyter-widgets/controls",
      "model_module_version": "1.5.0",
      "model_name": "FloatProgressModel",
      "state": {
       "bar_style": "success",
       "layout": "IPY_MODEL_5fa1690bac2247ce8454f71a440e43bd",
       "max": 1524,
       "style": "IPY_MODEL_bfdd91804ad14badb4bb97627996a1d6",
       "value": 1524
      }
     },
     "6a900df67fc747f29b37b8a83970a72c": {
      "model_module": "@jupyter-widgets/base",
      "model_module_version": "1.2.0",
      "model_name": "LayoutModel",
      "state": {}
     },
     "6eb8281bbc51473a88b0e5082c44b9ab": {
      "model_module": "@jupyter-widgets/base",
      "model_module_version": "1.2.0",
      "model_name": "LayoutModel",
      "state": {}
     },
     "71ce09788c1b4f1d9d783e3e3036868e": {
      "model_module": "@jupyter-widgets/base",
      "model_module_version": "1.2.0",
      "model_name": "LayoutModel",
      "state": {}
     },
     "745c02c1322c4eb99535dbd612d13575": {
      "model_module": "@jupyter-widgets/controls",
      "model_module_version": "1.5.0",
      "model_name": "HBoxModel",
      "state": {
       "children": [
        "IPY_MODEL_3e72ab103c5c4a258a2b1cc651660189",
        "IPY_MODEL_23136c1938c942d082a556eeacc0a27c",
        "IPY_MODEL_f4f6194197fe4d5b9bf6545ea563689f"
       ],
       "layout": "IPY_MODEL_a010a04b8e5740b39ee69343794b9023"
      }
     },
     "77dc14fbd45f44f0937bb3db69803be2": {
      "model_module": "@jupyter-widgets/base",
      "model_module_version": "1.2.0",
      "model_name": "LayoutModel",
      "state": {}
     },
     "7cf98eab85594d0ab4bc79a37f46f48b": {
      "model_module": "@jupyter-widgets/base",
      "model_module_version": "1.2.0",
      "model_name": "LayoutModel",
      "state": {}
     },
     "829d5f5b96c94954a24bdf3d151b651d": {
      "model_module": "@jupyter-widgets/controls",
      "model_module_version": "1.5.0",
      "model_name": "ProgressStyleModel",
      "state": {
       "description_width": ""
      }
     },
     "855b5a4f72184fecb8d13f1673715976": {
      "model_module": "@jupyter-widgets/controls",
      "model_module_version": "1.5.0",
      "model_name": "DescriptionStyleModel",
      "state": {
       "description_width": ""
      }
     },
     "8772fb78cd914b27b35b32a3d0247890": {
      "model_module": "@jupyter-widgets/base",
      "model_module_version": "1.2.0",
      "model_name": "LayoutModel",
      "state": {}
     },
     "890bded3486246238c4ab305ae353c83": {
      "model_module": "@jupyter-widgets/base",
      "model_module_version": "1.2.0",
      "model_name": "LayoutModel",
      "state": {}
     },
     "8c235cffa42243e381f34333fa6809c6": {
      "model_module": "@jupyter-widgets/controls",
      "model_module_version": "1.5.0",
      "model_name": "FloatProgressModel",
      "state": {
       "bar_style": "danger",
       "layout": "IPY_MODEL_deb054ae164149f3adfceaf0776c4c72",
       "max": 1524,
       "style": "IPY_MODEL_17074917333840249573486f2728755f",
       "value": 1077
      }
     },
     "900ccfe114b346f29c861f18c6812f45": {
      "model_module": "@jupyter-widgets/controls",
      "model_module_version": "1.5.0",
      "model_name": "DescriptionStyleModel",
      "state": {
       "description_width": ""
      }
     },
     "930bd955df1d4a03bab5105b4dcdb4bd": {
      "model_module": "@jupyter-widgets/base",
      "model_module_version": "1.2.0",
      "model_name": "LayoutModel",
      "state": {}
     },
     "95f4f50f0b934af9a514f2182e09c8b1": {
      "model_module": "@jupyter-widgets/controls",
      "model_module_version": "1.5.0",
      "model_name": "FloatProgressModel",
      "state": {
       "bar_style": "danger",
       "layout": "IPY_MODEL_56231d64953f4cafbcc12fa5d8cebb1e",
       "max": 2,
       "style": "IPY_MODEL_829d5f5b96c94954a24bdf3d151b651d"
      }
     },
     "998e8df3d60a464ab76018144f8498ed": {
      "model_module": "@jupyter-widgets/controls",
      "model_module_version": "1.5.0",
      "model_name": "DescriptionStyleModel",
      "state": {
       "description_width": ""
      }
     },
     "9aebeda019034084acdc27e7bd1684fa": {
      "model_module": "@jupyter-widgets/controls",
      "model_module_version": "1.5.0",
      "model_name": "DescriptionStyleModel",
      "state": {
       "description_width": ""
      }
     },
     "9dad746dacdc4e9988a019d3589640a8": {
      "model_module": "@jupyter-widgets/base",
      "model_module_version": "1.2.0",
      "model_name": "LayoutModel",
      "state": {}
     },
     "a010a04b8e5740b39ee69343794b9023": {
      "model_module": "@jupyter-widgets/base",
      "model_module_version": "1.2.0",
      "model_name": "LayoutModel",
      "state": {}
     },
     "a10627c9ae414e5f869d931568ffc2c1": {
      "model_module": "@jupyter-widgets/base",
      "model_module_version": "1.2.0",
      "model_name": "LayoutModel",
      "state": {}
     },
     "a352bcf6ad66487b9890100dd9616209": {
      "model_module": "@jupyter-widgets/controls",
      "model_module_version": "1.5.0",
      "model_name": "FloatProgressModel",
      "state": {
       "bar_style": "success",
       "layout": "IPY_MODEL_21a15f90bf8d4651aedf2ec8ea9d9478",
       "max": 2,
       "style": "IPY_MODEL_d5359469f686427c820f75d3605d3110",
       "value": 2
      }
     },
     "a5848ecde21a425fb202a3694c822064": {
      "model_module": "@jupyter-widgets/controls",
      "model_module_version": "1.5.0",
      "model_name": "DescriptionStyleModel",
      "state": {
       "description_width": ""
      }
     },
     "a6e19ffee2ee4ddbb18584a538b84de9": {
      "model_module": "@jupyter-widgets/controls",
      "model_module_version": "1.5.0",
      "model_name": "DescriptionStyleModel",
      "state": {
       "description_width": ""
      }
     },
     "a7500d7cf1374fa099d6e241c12172e9": {
      "model_module": "@jupyter-widgets/controls",
      "model_module_version": "1.5.0",
      "model_name": "HTMLModel",
      "state": {
       "layout": "IPY_MODEL_f4190c05a54f4e36b4bbb8a10a440ee3",
       "style": "IPY_MODEL_b290dc9812774eb3a88d6ebbb6590c72",
       "value": "Movies from 2001: 100%"
      }
     },
     "ab10e11cdfd6452492e9356fe94d3572": {
      "model_module": "@jupyter-widgets/controls",
      "model_module_version": "1.5.0",
      "model_name": "FloatProgressModel",
      "state": {
       "bar_style": "danger",
       "layout": "IPY_MODEL_71ce09788c1b4f1d9d783e3e3036868e",
       "max": 2,
       "style": "IPY_MODEL_d4e783531fe74fd183cc1c02ca642847",
       "value": 1
      }
     },
     "ab53fdcd620e442c80a61d88fda7dfeb": {
      "model_module": "@jupyter-widgets/controls",
      "model_module_version": "1.5.0",
      "model_name": "ProgressStyleModel",
      "state": {
       "description_width": ""
      }
     },
     "ac6c076fff9c45c297960b44b482d47f": {
      "model_module": "@jupyter-widgets/base",
      "model_module_version": "1.2.0",
      "model_name": "LayoutModel",
      "state": {}
     },
     "ac726ec35b6d47b2961da12f41af6290": {
      "model_module": "@jupyter-widgets/base",
      "model_module_version": "1.2.0",
      "model_name": "LayoutModel",
      "state": {}
     },
     "ad54cc7c285e4b42adc09a7072da7e46": {
      "model_module": "@jupyter-widgets/controls",
      "model_module_version": "1.5.0",
      "model_name": "HTMLModel",
      "state": {
       "layout": "IPY_MODEL_600ba8f9f61144df86fc45e9852f6107",
       "style": "IPY_MODEL_4e65e12f7dd747d59b973f4516efa485",
       "value": "YEARS: 100%"
      }
     },
     "af0416aad8c44a15913d6dde392adb7e": {
      "model_module": "@jupyter-widgets/controls",
      "model_module_version": "1.5.0",
      "model_name": "HBoxModel",
      "state": {
       "children": [
        "IPY_MODEL_3669a01f9f404f078de9eb5c0820b300",
        "IPY_MODEL_ab10e11cdfd6452492e9356fe94d3572",
        "IPY_MODEL_b0091365007143ee8dd0009ab9cca38a"
       ],
       "layout": "IPY_MODEL_656dcbecee3a4d6b9f6eb842ff80299e"
      }
     },
     "b0091365007143ee8dd0009ab9cca38a": {
      "model_module": "@jupyter-widgets/controls",
      "model_module_version": "1.5.0",
      "model_name": "HTMLModel",
      "state": {
       "layout": "IPY_MODEL_bbf9d8484720472d8fce2903cac25b3a",
       "style": "IPY_MODEL_15942caa506d45549a0a9a86c2ec5f13",
       "value": " 1/2 [12:42&lt;06:38, 398.64s/it]"
      }
     },
     "b290dc9812774eb3a88d6ebbb6590c72": {
      "model_module": "@jupyter-widgets/controls",
      "model_module_version": "1.5.0",
      "model_name": "DescriptionStyleModel",
      "state": {
       "description_width": ""
      }
     },
     "b4b4e63ee1df4169a2948355feac41bb": {
      "model_module": "@jupyter-widgets/controls",
      "model_module_version": "1.5.0",
      "model_name": "DescriptionStyleModel",
      "state": {
       "description_width": ""
      }
     },
     "b4c00913595e4473b35e2915415ab892": {
      "model_module": "@jupyter-widgets/controls",
      "model_module_version": "1.5.0",
      "model_name": "DescriptionStyleModel",
      "state": {
       "description_width": ""
      }
     },
     "bb171a4a928c45dfb0ccd09e2cb78523": {
      "model_module": "@jupyter-widgets/controls",
      "model_module_version": "1.5.0",
      "model_name": "FloatProgressModel",
      "state": {
       "bar_style": "success",
       "layout": "IPY_MODEL_ac726ec35b6d47b2961da12f41af6290",
       "max": 1406,
       "style": "IPY_MODEL_647c385819a5491396ec0e6e4b16f765",
       "value": 1406
      }
     },
     "bb404d06aa864d969b51e9ee92114cf3": {
      "model_module": "@jupyter-widgets/base",
      "model_module_version": "1.2.0",
      "model_name": "LayoutModel",
      "state": {}
     },
     "bba00e2dff7646d6911fd1c76263b50b": {
      "model_module": "@jupyter-widgets/controls",
      "model_module_version": "1.5.0",
      "model_name": "ProgressStyleModel",
      "state": {
       "description_width": ""
      }
     },
     "bbf9d8484720472d8fce2903cac25b3a": {
      "model_module": "@jupyter-widgets/base",
      "model_module_version": "1.2.0",
      "model_name": "LayoutModel",
      "state": {}
     },
     "bfdd91804ad14badb4bb97627996a1d6": {
      "model_module": "@jupyter-widgets/controls",
      "model_module_version": "1.5.0",
      "model_name": "ProgressStyleModel",
      "state": {
       "description_width": ""
      }
     },
     "c229b74d283d4a198bdb9c4619ec516d": {
      "model_module": "@jupyter-widgets/controls",
      "model_module_version": "1.5.0",
      "model_name": "HBoxModel",
      "state": {
       "children": [
        "IPY_MODEL_653af011064f4155bee1cda685412d34",
        "IPY_MODEL_fdb900610fcd460288ef9ddead3e9c56",
        "IPY_MODEL_ece59ea9f3434b8293039faab0fdb094"
       ],
       "layout": "IPY_MODEL_0775a3095d9748e3b9c546f680292797"
      }
     },
     "c4e323d3dc13456c920e276e28f79f26": {
      "model_module": "@jupyter-widgets/controls",
      "model_module_version": "1.5.0",
      "model_name": "HTMLModel",
      "state": {
       "layout": "IPY_MODEL_77dc14fbd45f44f0937bb3db69803be2",
       "style": "IPY_MODEL_9aebeda019034084acdc27e7bd1684fa",
       "value": "Movies from 2001: 100%"
      }
     },
     "c7bd9482ab2b4f45a84467e8005fd068": {
      "model_module": "@jupyter-widgets/controls",
      "model_module_version": "1.5.0",
      "model_name": "HTMLModel",
      "state": {
       "layout": "IPY_MODEL_debb8874185447548ac17b01ea835703",
       "style": "IPY_MODEL_b4b4e63ee1df4169a2948355feac41bb",
       "value": " 1524/1524 [11:35&lt;00:00,  3.63it/s]"
      }
     },
     "c8856bc69f9b4cd4ae28e6d853eadf88": {
      "model_module": "@jupyter-widgets/base",
      "model_module_version": "1.2.0",
      "model_name": "LayoutModel",
      "state": {}
     },
     "c92d4f3cf253473c861b7bbaaf51b8c7": {
      "model_module": "@jupyter-widgets/base",
      "model_module_version": "1.2.0",
      "model_name": "LayoutModel",
      "state": {}
     },
     "cc6421a1edc24b6e8ad14f9f2bf8388a": {
      "model_module": "@jupyter-widgets/controls",
      "model_module_version": "1.5.0",
      "model_name": "ProgressStyleModel",
      "state": {
       "description_width": ""
      }
     },
     "cd9bd0eb4d2c4f5f8b5eb36e44b8c555": {
      "model_module": "@jupyter-widgets/base",
      "model_module_version": "1.2.0",
      "model_name": "LayoutModel",
      "state": {}
     },
     "d1eb1d9f689948d3bca9688ccc8e40a1": {
      "model_module": "@jupyter-widgets/controls",
      "model_module_version": "1.5.0",
      "model_name": "HTMLModel",
      "state": {
       "layout": "IPY_MODEL_517da760cb9f4365a04fb832dfcc2691",
       "style": "IPY_MODEL_f18243a9fd4a498b98c41c5d30b085f0",
       "value": " 2/2 [22:04&lt;00:00, 668.06s/it]"
      }
     },
     "d22fee46f6344ec7ab929ac20b0bfba7": {
      "model_module": "@jupyter-widgets/controls",
      "model_module_version": "1.5.0",
      "model_name": "DescriptionStyleModel",
      "state": {
       "description_width": ""
      }
     },
     "d4e783531fe74fd183cc1c02ca642847": {
      "model_module": "@jupyter-widgets/controls",
      "model_module_version": "1.5.0",
      "model_name": "ProgressStyleModel",
      "state": {
       "description_width": ""
      }
     },
     "d5359469f686427c820f75d3605d3110": {
      "model_module": "@jupyter-widgets/controls",
      "model_module_version": "1.5.0",
      "model_name": "ProgressStyleModel",
      "state": {
       "description_width": ""
      }
     },
     "deb054ae164149f3adfceaf0776c4c72": {
      "model_module": "@jupyter-widgets/base",
      "model_module_version": "1.2.0",
      "model_name": "LayoutModel",
      "state": {}
     },
     "debb8874185447548ac17b01ea835703": {
      "model_module": "@jupyter-widgets/base",
      "model_module_version": "1.2.0",
      "model_name": "LayoutModel",
      "state": {}
     },
     "e1511a80a426437f8e7a8366ac15b0bb": {
      "model_module": "@jupyter-widgets/controls",
      "model_module_version": "1.5.0",
      "model_name": "HTMLModel",
      "state": {
       "layout": "IPY_MODEL_2aacb4e34ac344e5b568d1d38f523ab4",
       "style": "IPY_MODEL_a5848ecde21a425fb202a3694c822064",
       "value": "Movies from 2000: 100%"
      }
     },
     "e31bda6064da41b3a8e03db3deea3183": {
      "model_module": "@jupyter-widgets/controls",
      "model_module_version": "1.5.0",
      "model_name": "HTMLModel",
      "state": {
       "layout": "IPY_MODEL_31f8dd8c03ce4f6ca6c79beb24018fd0",
       "style": "IPY_MODEL_e8410a600f1542308357b000102ec38a",
       "value": " 0/2 [00:00&lt;?, ?it/s]"
      }
     },
     "e3e52d12cd7e40bb8b52e3a7d1970a7d": {
      "model_module": "@jupyter-widgets/controls",
      "model_module_version": "1.5.0",
      "model_name": "HTMLModel",
      "state": {
       "layout": "IPY_MODEL_0ea5a944350c4db6a7652300e78a8fda",
       "style": "IPY_MODEL_fc6509a4cfb54a4780265d45dfea8abc",
       "value": "Movies from 2000: 100%"
      }
     },
     "e8410a600f1542308357b000102ec38a": {
      "model_module": "@jupyter-widgets/controls",
      "model_module_version": "1.5.0",
      "model_name": "DescriptionStyleModel",
      "state": {
       "description_width": ""
      }
     },
     "ece59ea9f3434b8293039faab0fdb094": {
      "model_module": "@jupyter-widgets/controls",
      "model_module_version": "1.5.0",
      "model_name": "HTMLModel",
      "state": {
       "layout": "IPY_MODEL_9dad746dacdc4e9988a019d3589640a8",
       "style": "IPY_MODEL_6797067c29df463883be09a85ec43665",
       "value": " 2/2 [16:42&lt;00:00, 509.15s/it]"
      }
     },
     "f10213b2e8c8405082398d11e5b45d36": {
      "model_module": "@jupyter-widgets/controls",
      "model_module_version": "1.5.0",
      "model_name": "DescriptionStyleModel",
      "state": {
       "description_width": ""
      }
     },
     "f18243a9fd4a498b98c41c5d30b085f0": {
      "model_module": "@jupyter-widgets/controls",
      "model_module_version": "1.5.0",
      "model_name": "DescriptionStyleModel",
      "state": {
       "description_width": ""
      }
     },
     "f2475160b5394ed994ab1479528196c4": {
      "model_module": "@jupyter-widgets/controls",
      "model_module_version": "1.5.0",
      "model_name": "HTMLModel",
      "state": {
       "layout": "IPY_MODEL_4453fae213754608918f1e5e980fb5c5",
       "style": "IPY_MODEL_900ccfe114b346f29c861f18c6812f45",
       "value": "YEARS:   0%"
      }
     },
     "f4190c05a54f4e36b4bbb8a10a440ee3": {
      "model_module": "@jupyter-widgets/base",
      "model_module_version": "1.2.0",
      "model_name": "LayoutModel",
      "state": {}
     },
     "f4f6194197fe4d5b9bf6545ea563689f": {
      "model_module": "@jupyter-widgets/controls",
      "model_module_version": "1.5.0",
      "model_name": "HTMLModel",
      "state": {
       "layout": "IPY_MODEL_c92d4f3cf253473c861b7bbaaf51b8c7",
       "style": "IPY_MODEL_d22fee46f6344ec7ab929ac20b0bfba7",
       "value": " 1406/1406 [06:38&lt;00:00,  4.08it/s]"
      }
     },
     "f71d20aec289434e90f7292fe0f8f527": {
      "model_module": "@jupyter-widgets/controls",
      "model_module_version": "1.5.0",
      "model_name": "HTMLModel",
      "state": {
       "layout": "IPY_MODEL_c8856bc69f9b4cd4ae28e6d853eadf88",
       "style": "IPY_MODEL_f10213b2e8c8405082398d11e5b45d36",
       "value": " 1406/1406 [10:29&lt;00:00,  3.84it/s]"
      }
     },
     "fc6509a4cfb54a4780265d45dfea8abc": {
      "model_module": "@jupyter-widgets/controls",
      "model_module_version": "1.5.0",
      "model_name": "DescriptionStyleModel",
      "state": {
       "description_width": ""
      }
     },
     "fd48a84587774ad6b632609caedce653": {
      "model_module": "@jupyter-widgets/base",
      "model_module_version": "1.2.0",
      "model_name": "LayoutModel",
      "state": {}
     },
     "fdb900610fcd460288ef9ddead3e9c56": {
      "model_module": "@jupyter-widgets/controls",
      "model_module_version": "1.5.0",
      "model_name": "FloatProgressModel",
      "state": {
       "bar_style": "success",
       "layout": "IPY_MODEL_5fc69baff23644859cb50456a9310107",
       "max": 2,
       "style": "IPY_MODEL_ab53fdcd620e442c80a61d88fda7dfeb",
       "value": 2
      }
     },
     "ffaecf43f279401e9b95a9dd89515130": {
      "model_module": "@jupyter-widgets/base",
      "model_module_version": "1.2.0",
      "model_name": "LayoutModel",
      "state": {}
     }
    },
    "version_major": 2,
    "version_minor": 0
   }
  }
 },
 "nbformat": 4,
 "nbformat_minor": 5
}
